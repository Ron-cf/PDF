{
 "cells": [
  {
   "cell_type": "code",
   "execution_count": 17,
   "metadata": {},
   "outputs": [],
   "source": [
    "# Importing modules\n",
    "import PyPDF2\n",
    "import os\n"
   ]
  },
  {
   "cell_type": "code",
   "execution_count": 18,
   "metadata": {},
   "outputs": [],
   "source": [
    "# creating a pdf file object\n",
    "pdf_File_obj = open('PDF_to_txt.pdf','rb')\n",
    "\n",
    "# creating a pdf reader object\n",
    "pdf_Reader = PyPDF2.PdfReader(pdf_File_obj)\n"
   ]
  },
  {
   "cell_type": "code",
   "execution_count": 19,
   "metadata": {},
   "outputs": [
    {
     "name": "stdout",
     "output_type": "stream",
     "text": [
      "Contando as páginas ...\n",
      "num of pages:  2\n"
     ]
    }
   ],
   "source": [
    "os.system('cls') # Para limpar a tela (comando do DOS)\n",
    "\n",
    "# To print the number of pages\n",
    "print('Contando as páginas ...')\n",
    "print(\"num of pages: \",len(pdf_Reader.pages))\n"
   ]
  },
  {
   "cell_type": "code",
   "execution_count": 20,
   "metadata": {},
   "outputs": [],
   "source": [
    "# create a page object\n",
    "pagObj = pdf_Reader.pages[1] "
   ]
  },
  {
   "cell_type": "code",
   "execution_count": 21,
   "metadata": {},
   "outputs": [
    {
     "name": "stdout",
     "output_type": "stream",
     "text": [
      "Testo extraído\n",
      " Para utilizar o Jupyter com o VSCODE\n",
      "1) <Ctrl> + <Shift> + p\n",
      "2) Digitar: “ Create: New Jupyter Notebook ”\n"
     ]
    }
   ],
   "source": [
    "# extract text from page\n",
    "text = pagObj.extract_text()\n",
    "print('Testo extraído\\n',text)"
   ]
  },
  {
   "cell_type": "code",
   "execution_count": 22,
   "metadata": {},
   "outputs": [],
   "source": [
    "# save to a text file for later use\n",
    "# copy the path where the script and pdf is placed\n",
    "file1=open(r\"convertedtext.txt\",\"a\")\n",
    "file1.writelines(text)"
   ]
  },
  {
   "cell_type": "code",
   "execution_count": 23,
   "metadata": {},
   "outputs": [],
   "source": [
    "# closing the pdf file object\n",
    "pdf_File_obj.close()"
   ]
  },
  {
   "cell_type": "code",
   "execution_count": 24,
   "metadata": {},
   "outputs": [],
   "source": [
    "# closing the text file object\n",
    "file1.close()"
   ]
  }
 ],
 "metadata": {
  "kernelspec": {
   "display_name": "Python 3.8.10 ('venv_for-pdf': venv)",
   "language": "python",
   "name": "python3"
  },
  "language_info": {
   "codemirror_mode": {
    "name": "ipython",
    "version": 3
   },
   "file_extension": ".py",
   "mimetype": "text/x-python",
   "name": "python",
   "nbconvert_exporter": "python",
   "pygments_lexer": "ipython3",
   "version": "3.8.10"
  },
  "orig_nbformat": 4,
  "vscode": {
   "interpreter": {
    "hash": "daecdbd7f5230fa3b03cabd404644dea780b70612fe3d9e9516ed288a37eb555"
   }
  }
 },
 "nbformat": 4,
 "nbformat_minor": 2
}
